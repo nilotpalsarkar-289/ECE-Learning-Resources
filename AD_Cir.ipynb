{
 "cells": [
  {
   "cell_type": "markdown",
   "metadata": {},
   "source": [
    "## List of Topics: -\n",
    "### Analog Circuits:\n",
    "1. **Diode Circuits**: clipping; clamping; rectifiers\n",
    "2. **BJT and MOSFET Amplifiers**: biasing; ac; coupling; small signal analysis; frequency response; current mirrors; differential amplifiers\n",
    "3. **Op-amp Circuits**: Amplifiers; summers; differentiators; integrators; active filterrs;\n",
    "### Digital Circuits:\n",
    "4. **Number Representations**: Binary; integer and floating-point- numbers\n",
    "5. **Combinational Circuits**: Boolean algebra; minimization of functions using boolean identities; Karnaugh map; logic gates and their static CMOS implementations; arithmetic circuits; code converters; multiplexers; decoders\n",
    "6. **Sequential Circuits**: Latches & flip-flops; counters; shift-registers; machines; propagation delay; setup and hold time; critical path delay\n",
    "7. **Data Converters**: Sample and hold circuits; ADCs and DACs\n",
    "8. **Semiconductor Memories**: ROM; SRAM; DRAM\n",
    "9. **Computer Organization**: Machine instructions and addressing modes; ALU; data-path; control unit; instruction pipelining"
   ]
  },
  {
   "cell_type": "markdown",
   "metadata": {},
   "source": [
    "## Lectures & Tutorials: -\n",
    "1. **Analog Electronic Circuits**: {https://youtu.be/pkIxCmaxWFg?list=PLbRMhDVUMngehqNF2w_UbAi94qIycZOTG} This lecture series provides a detailed overview on analog electronic circuits starting from basic circuit components to practical circuits. [NPTEL: Prof. Pradip Mondal, IITKGP]\n",
    "2. **Electronics For Analog Signal Processing**: {https://youtu.be/8ybxGhhkr20?list=PL4E1A7D28A90C9B41} This lecture series provide a complete guide to the electronics required for analog signal processing. [NPTEL: Prof. K. Radhakrishna Rao, IITM]\n",
    "3. **Analog Electronics**: {https://youtu.be/7jaa1rlW7Ak?list=PLBlnK6fEyqRiw-GZRqfnlVIBz9dxrqHJS} This playlist offers a complete walkthrough to the concepts and problems in analog electronics. [Neso Academy]\n",
    "4. **Digital Electronic Circuits**: {https://youtu.be/X7M3rUxUpOc?list=PLbRMhDVUMngePP5JcezxImF-FzOC9wstz} This lecture series provides a detailed overview on digital electronic circuits with every topic explained. [NPTEL: Prof. Santanu Chattopadhyay, IITKGP]\n",
    "5. **Digital Circuits and Systems**: {https://youtu.be/CeD2L6KbtVM?list=PL803563859BF7ED8C} This lecture series offer a complete guide to digital circuits as well as systems. [NPTEl: Prof. S. Srinivasan, IITM]\n",
    "6. **Digital Electronics**: {https://youtu.be/M0mx8S05v60?list=PLBlnK6fEyqRjMH3mWf6kwqiTbT798eAOm} This playlist offers a complete walkthrough to the concepts and problems in digital electronics. [Neso Academy]"
   ]
  },
  {
   "cell_type": "markdown",
   "metadata": {},
   "source": [
    "## Books: -\n",
    "1. **Microelectronic Circuits Theory and Applications** [Adel S. Sedra]: {https://amzn.in/d/hwHuXly} Provides the most comprehensive, flexible, accurate, and design-oriented treatment of electronic circuits available today.\n",
    "2. **Analog Circuit Design** [David Johns and Kenneth Martin]: {https://amzn.in/d/8Lu0OLu} This book provides an in-depth exploration of analog integrated circuits, focusing on practical design techniques and methodologies.\n",
    "3. **Digital Design** [M. Morris Mano and Michael D. Ciletti]: {https://amzn.in/d/d2yLM4E} This book is highly regarded for teaching digital circuits, covering digital logic design fundamentals, combinational and sequential circuits, and hardware design principles.\n",
    "4. **Digital Fundamentals** [Thomas L. Floyd]: {https://amzn.in/d/9u6vfpP} This book offers a thorough introduction to digital electronics, with detailed explanations, practical examples, and real-world applications of digital circuits."
   ]
  }
 ],
 "metadata": {
  "language_info": {
   "name": "python"
  }
 },
 "nbformat": 4,
 "nbformat_minor": 2
}
