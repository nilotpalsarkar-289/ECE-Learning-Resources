{
 "cells": [
  {
   "cell_type": "markdown",
   "metadata": {},
   "source": [
    "## List of Topics: -\n",
    "### Analog Circuits:\n",
    "1. **Diode Circuits**: clipping; clamping; rectifiers\n",
    "2. **BJT and MOSFET Amplifiers**: biasing; ac; coupling; small signal analysis; frequency response; current mirrors; differential amplifiers\n",
    "3. **Op-amp Circuits**: Amplifiers; summers; differentiators; integrators; active filterrs;\n",
    "### Digital Circuits:\n",
    "4. **Number Representations**: Binary; integer and floating-point- numbers\n",
    "5. **Combinational Circuits**: Boolean algebra; minimization of functions using boolean identities; Karnaugh map; logic gates and their static CMOS implementations; arithmetic circuits; code converters; multiplexers; decoders\n",
    "6. **Sequential Circuits**: Latches & flip-flops; counters; shift-registers; machines; propagation delay; setup and hold time; critical path delay\n",
    "7. **Data Converters**: Sample and hold circuits; ADCs and DACs\n",
    "8. **Semiconductor Memories**: ROM; SRAM; DRAM\n",
    "9. **Computer Organization**: Machine instructions and addressing modes; ALU; data-path; control unit; instruction pipelining"
   ]
  },
  {
   "cell_type": "markdown",
   "metadata": {},
   "source": [
    "## Lectures & Tutorials: -\n",
    "1. "
   ]
  },
  {
   "cell_type": "markdown",
   "metadata": {},
   "source": [
    "## Books: -\n",
    "1. "
   ]
  },
  {
   "cell_type": "markdown",
   "metadata": {},
   "source": []
  }
 ],
 "metadata": {
  "language_info": {
   "name": "python"
  }
 },
 "nbformat": 4,
 "nbformat_minor": 2
}
