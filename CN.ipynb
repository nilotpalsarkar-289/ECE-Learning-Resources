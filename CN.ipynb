{
 "cells": [
  {
   "cell_type": "markdown",
   "metadata": {},
   "source": [
    "## List of Topics: -\n",
    "### Computer Organization & Architecture:\n",
    "1. **Basic Functional Blocks of a Computer**:  CPU; memory; input-output subsystems; control unit; instruction set architecture of a CPU-registers; instruction execution cycle; RTL interpretation of instructions; addressing modes; instruction set\n",
    "2. **Data Represenation**: Signed number representation; fixed and floating point representations; character representation.\n",
    "3. **Computer Arithmetic**: Integer addition & subtraction; ripple carry adder; carry look-ahead adder, etc; multiplication - shift-and-add; booth multiplier; carry save multiplier, etc; Division-restoring and non-restoring techniques; floating point arithmetic\n",
    "4. **CPU Control Unit Design**: Hardwired and micro-programmed design approaches\n",
    "5. **Memory System Design**: Semiconductor memory technologies; memory organization\n",
    "6. **Peripheral Devices**: Input-output subsystems; I/O transfers-program controlled, interrupt driven DMA; privileged and non-privileged instructions; software interrupts and exceptions; Programs and processes-role of interrupts in process state transitions\n",
    "7. **Performance Enhancement Techniques**: Pipelining-Basic concepts of pipelining; throughput and speedup; pipeline hazards\n",
    "8. **Memory Organization**: Memory interleaving; concept of hierarchical memory organization; cache memory; cache size vs. block size; mapping functions; replacement algorithms; write policies\n",
    "### Computer Networks: \n",
    "9. **Concept of Layering**: OSI and TCP/IP\n",
    "10. **Protocol Stacks**: Basics of packet; circuit and virtual circuit-switching\n",
    "11. **Data Link Layer**: framing; error detection; medium access control; ethernet bridging\n",
    "12. **Routing Protocols**: shortest path; flooding; distance vector and link state routing\n",
    "13. **Fragmentation & IP Addressing**: IPv4, CIDR notation; basics of IP support protocols (ARP, DHCP, ICMP); Network Address Translation (NAT)\n",
    "14. **Transport Layer**: Flow control; congestion control; UDP; TCP; sockets\n",
    "15. **Application Layer Protocols**: DNS; SMTP; HTTP; FTP; Email"
   ]
  },
  {
   "cell_type": "markdown",
   "metadata": {},
   "source": [
    "## Lectures & Tutorials: -\n",
    "1. **Computer Architecture**: {https://youtu.be/4TzMyXmzL8M?list=PL59E5B57A04EAE09C} This lecture series provides a detailed overview on computer architecture and its organization [NPTEL: Prof. Anshul Kumar, IITD]\n",
    "2. **Digital Computer Organization**: {https://youtu.be/TH9nd-KdVHs?list=PL2DC54ABD5C0221FE} This lecture serires provides a detailed perspective on the organization of computers [NPTEL: Prof P.K. Biswas, IITKGP]\n",
    "3. **Data Communications and Networking** : {https://youtu.be/RXI5bV1ZtkI?list=PLvkvNM3hCBXujRq97Cqprn_k7196NbjP6} This lecture series provides an overview on computer networks. [Forouzan]\n",
    "4. **Computer Networks**: {https://youtu.be/VwN91x5i25g?list=PLBlnK6fEyqRgMCUAG0XRw78UA8qnv6jEx} This playlist provides a complete guide to computer networks in a concise manner. [Neso Academy]"
   ]
  },
  {
   "cell_type": "markdown",
   "metadata": {},
   "source": [
    "## Books: -\n",
    "1. **Computer Organization and Design: The Hardware/Software Interface** [David A. Patterson and John L. Hennessy]: {https://amzn.in/d/5eAlSiQ} This book is a widely used textbook that provides a comprehensive introduction to computer organization and architecture, focusing on the interaction between hardware and software. \n",
    "2. **Data Communications and Networking** [Behrouz A. Forouzan] {https://amzn.in/d/6l8PrnE} This book provides a detailed overview on computer networks and has each topic explained clearly with systematic diagrams in it."
   ]
  }
 ],
 "metadata": {
  "language_info": {
   "name": "python"
  }
 },
 "nbformat": 4,
 "nbformat_minor": 2
}
