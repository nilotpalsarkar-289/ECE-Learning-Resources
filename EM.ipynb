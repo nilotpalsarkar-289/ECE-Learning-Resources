{
 "cells": [
  {
   "cell_type": "markdown",
   "metadata": {},
   "source": [
    "## List of Topics: -\n",
    "1. **Linear Algebra**: Vector space; basis; linear dependence and independence; matrix algebra; Eigen values and eigen vectors; rank; solution of linear equations- existence and uniqueness\n",
    "2. **Calculus**: Mean value theorems; theorems of integral calculus; evaluation of definite and improper integrals; partial derivatives; maxima and minima; multiple integrals; line, surface and volume integrals; Taylor series\n",
    "3. **Differential Equations**: First order equations (linear and nonlinear); higher order linear differential equations; Cauchy's and Euler's equations; methods of solution using variation of parameters; complementary function and particular integral; partial differential equations; variable separable method; initial and boundary value problems\n",
    "4. **Vector Analysis**: Vectors in plane and space; vector operations; gradient; divergence and curl; Gauss's; Green's and Stokes’ theorems\n",
    "5. **Complex Analysis**: Analytic functions; Cauchy’s integral theorem; Cauchy’s integral formula; sequences; series; convergence tests; Taylor and Laurent series; residue theorem\n",
    "6. **Probability and Statistics**: Mean; median; mode; standard deviation; combinatorial probability; probability distributions: binomial distribution, Poisson distribution, exponential distribution, normal distribution; joint and conditional probability."
   ]
  },
  {
   "cell_type": "markdown",
   "metadata": {},
   "source": [
    "## Lectures & Tutorials: -\n",
    "1. **MIT 18.06C Linear Algebra**: {https://youtu.be/7UJ4CFRGd-U?list=PL221E2BBF13BECF6C} This lecture series provide a detailed overview on this subject from beginner to advanced level. [Prof. Gilbert Strang, MIT]\n",
    "2. **Mathematics-Linear Algebra**: {https://youtu.be/LJ-LoJhbBA4?list=PLbMVogVj5nJQ2vsW_hmyvVfO4GYWaaPp7} This lecture series offer a complete guide to linear algebra. [Prof. K.C. Sivakumar, IITM]\n",
    "3. **Core-Probability and Statistics**: {https://youtu.be/VVYLpmKRfQ8?list=PL6C92B335BD4238AB} This lecture series provide a complete overview on this subject with detailed explanations. [Prof. Somesh Kumar, IITKGP]\n",
    "4. **Calculus of One Variable**: {https://youtu.be/zxbHsPB8m-M?list=PLEAYkSg4uSQ0q9CDkHkJGdUTQOgH1DLDj} This lecture series provide an overview on the fundamental concepts of calculus. [Prof. Joydeep Dutta, IITK]\n",
    "5. **Multivariable Calculus**: {https://youtu.be/XzaeYnZdK5o?list=PLtKWB-wrvn4nA2h8TFxzWL2zy8O9th_fy} This lecture series includes the concepts required for multivariable calculus. [Prof. Dr. S.K. Gupta, IITR]\n",
    "6. **Complex Analysis**: {https://youtu.be/Mwpz1zjPlzI?list=PLbMVogVj5nJS_i8vfVWJG16mPcoEKMuWT} This lecture series provides complete guide to complex analysis. [Prof. P. A. S. Sree Krishna, IITG]"
   ]
  },
  {
   "cell_type": "markdown",
   "metadata": {},
   "source": [
    "## Books: -\n",
    "1. **Advanced Engineering Mathematics** [Erwin Kreyszig]: {https://amzn.in/d/d56ucKi} This is one of the most popular textbooks for engineering students, covering a wide range of topics.\n",
    "2. **Higher Engineering Mathematics**[B.S. Grewal]: {https://amzn.in/d/7ogdhUJ} This book is widely used in many engineering programs for its comprehensive coverage of mathematical concepts."
   ]
  }
 ],
 "metadata": {
  "language_info": {
   "name": "python"
  }
 },
 "nbformat": 4,
 "nbformat_minor": 2
}
