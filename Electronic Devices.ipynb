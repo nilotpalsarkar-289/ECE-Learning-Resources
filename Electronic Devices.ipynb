{
 "cells": [
  {
   "cell_type": "markdown",
   "metadata": {},
   "source": [
    "## List of Topics: -\n",
    "1. Energy Bands in Intrinsic & Extrinsic Semiconductors\n",
    "2. Equilibrium Carrier Concentration\n",
    "3. Direct and Indirect Band-gap semiconductors\n",
    "4. Carrier Transport: diffusion current, drift current, mobility & resistivity, generation & combination of carriers, Poisson & Continuity equations.\n",
    "5. PN Junction\n",
    "6. Zener Diode\n",
    "7. BJT\n",
    "8. MOS Capacitor\n",
    "9. MOSFET\n",
    "10. LED\n",
    "11. Photo Diode & Solar Cell"
   ]
  },
  {
   "cell_type": "markdown",
   "metadata": {},
   "source": [
    "## Lectures & Tutorials: -\n",
    "1. Fundamentals of Semiconductor Devices: {https://youtu.be/h0Y9jDKqScQ?list=PLgMDNELGJ1CaNcuuQv9xN07ZWkXE-wCGP} This lecture series offers a complete guide to semiconductor devices, from fundamental concepts to advanced applications. [NPTEL: Prof. Digbijoy Nath, IISC Bangalore]\n",
    "2. Introduction to Semiconductor Physics: {https://youtu.be/OVnVN0vSXn0?list=PLQms29D1RqeKGBEW8La2a7YuN5_4pSV4k/} This playlist consists of a comprehensive guide for semiconductor devices by John Luis Edmunds.\n",
    "    "
   ]
  }
 ],
 "metadata": {
  "language_info": {
   "name": "python"
  }
 },
 "nbformat": 4,
 "nbformat_minor": 2
}
