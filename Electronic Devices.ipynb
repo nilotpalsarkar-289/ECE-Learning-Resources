{
 "cells": [
  {
   "cell_type": "markdown",
   "metadata": {},
   "source": [
    "## List of Topics: -\n",
    "1. Energy Bands in Intrinsic & Extrinsic Semiconductors\n",
    "2. Equilibrium Carrier Concentration\n",
    "3. Direct and Indirect Band-gap semiconductors\n",
    "4. Carrier Transport: diffusion current, drift current, mobility & resistivity, generation & combination of carriers, Poisson & Continuity equations.\n",
    "5. PN Junction\n",
    "6. Zener Diode\n",
    "7. BJT\n",
    "8. MOS Capacitor\n",
    "9. MOSFET\n",
    "10. LED\n",
    "11. Photo Diode & Solar Cell"
   ]
  }
 ],
 "metadata": {
  "language_info": {
   "name": "python"
  }
 },
 "nbformat": 4,
 "nbformat_minor": 2
}
