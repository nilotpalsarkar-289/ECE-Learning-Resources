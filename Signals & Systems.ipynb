{
 "cells": [
  {
   "cell_type": "markdown",
   "metadata": {},
   "source": [
    "## List Of Topics:-\n",
    "1. **Signal Basics**: Types of Signals; Basic Operations; Periodic/Aperiodic; Even/Odd;Energy; Power\n",
    "2. **Standard Signals & their Properties**\n",
    "3. **Fourier Analysis**: CTFS; CTFT; DTFS; DTFT\n",
    "4. **Sampling Theorem & Applications**\n",
    "5. **Systems**: static, dynamic; causal & non-causal; time-variant & time-invariant; linear & non-linear; invertible & non-invertible; stable & unstable; LTI.\n",
    "6. **Convolution**\n",
    "7. **z-Transform**\n",
    "8. **Discrete-time Processing of Continuous-Time Signals**: definition & properties; causality; stability; impulse response; convolution poles and zeroes; frequency response; group delay; phase delay.\n",
    "9. **Filter Design and Properties**: LPF/HPF; Chebyshev; Butterworth; FIR; IIR"
   ]
  },
  {
   "cell_type": "markdown",
   "metadata": {},
   "source": [
    "## Lectures & Tutorials: -\n",
    "1. **Signals and Systems**: {https://youtu.be/MLlSSJ0z7xM} This playlists covers the fundamental concepts, examples, and problem-solving techniques for engineering students. [Neso Academy]\n",
    "2. **Signals & Systems**: {https://youtu.be/h-CdTxDShho?list=PLC6210462711083C4} This lecture series offer a complete guide to signals and systems. [NPTEL: Prof. S.C. Dutta Roy, IITD]\n",
    "3. **Digital Signal Processing**: {https://youtu.be/6dFnpz_AEyA?list=PL9567DFCA3A66F299} This lecture series provide a review on basics of signals and systems and offer a complete guide to the processing of signals in discrete time and filter design concepts. [NPTEL: Prof. S.C. Dutta Roy, IITD]"
   ]
  },
  {
   "cell_type": "markdown",
   "metadata": {},
   "source": [
    "## Books: -\n",
    "1. **Signals And Systems** [Alan V. Oppenheim]: {https://amzn.in/d/8DIcyLg} This book provides a comprehensive guide to the concepts of signal processing as well as practice problems.\n",
    "2. **Signals And Systems [Schaum's Outline Series]** [H P. Hsu] {https://amzn.in/d/7BcFf50} This book on Signals and Systems gives a complete and compact overview of the subject. It is intended to be used as a supplement to all textbooks on signals & systems.\n",
    "3. **Digital Signal Processing** [Tarun Kumar Rawat] {https://amzn.in/d/iDI3heD} This comprehensive textbook designed for undergraduate and post-graduate students for a course on digital signal processing."
   ]
  }
 ],
 "metadata": {
  "language_info": {
   "name": "python"
  }
 },
 "nbformat": 4,
 "nbformat_minor": 2
}
