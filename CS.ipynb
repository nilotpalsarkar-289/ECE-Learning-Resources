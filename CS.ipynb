{
 "cells": [
  {
   "cell_type": "markdown",
   "metadata": {},
   "source": [
    "## List of Topics: -\n",
    "1. Basic Control System Components\n",
    "2. Feedback Principle\n",
    "3. Transfer Function\n",
    "4. Block Diagram Representation\n",
    "5. Signal Flow Graph\n",
    "6. Transient and Steady-state Analysis of LTI Systems\n",
    "7. Frequency Response\n",
    "8. Routh-Hurwitz & Nyquist Stability Criteria\n",
    "9. Bode and Root-Locus Plots\n",
    "10. Lag, Lead and Lag-Lead Compensation\n",
    "11. State Variable Model Solution of State Equation of LTI Systems"
   ]
  },
  {
   "cell_type": "markdown",
   "metadata": {},
   "source": [
    "## Lectures & Tutoritals: -\n",
    "1. **Control System**: {https://youtu.be/Cl23xQrvFhklist=PLyqSpQzTE6M8-wda5vbgHkMQTmu-21hRK} This lecture series provides a broad overview of methods & ideas that can be used to design controllers for dynamic systems. [NPTEL: Prof. C. S. Shankar Ram, IITM]\n",
    "2. **Control Systems**: {https://youtu.be/HcLYoCmWOjIlist=PLBlnK6fEyqRhqzJT87LsdQKYZBC93ezDo} This playlist provides a systematic overview on control systems focusing on selected topics. [Neso Academy]\n",
    "3. **Control Systems**: {https://youtu.be/ItXH3eozfss?list=PL3eEXnCBViH9hKdP7FLT9XBBwdaKC0SPk} This playlist provides a crash course on control systems which gives an overview on this subject required for gate as well as any other examination [Vishal Soni Sir, GateWallah]"
   ]
  },
  {
   "cell_type": "markdown",
   "metadata": {},
   "source": [
    "## Books: -\n",
    "1. **Control Systems Engineering**: [I J Nagrath, M Gopal] {https://www.amazon.in/dp/8195175589?ref_=cm_sw_r_cp_ud_dp_DYMVXNBPK0KKEXQQSVEB} This textbook provides a detailed overview on control systems and also contains significant amount of problems. \n",
    "2. **Modern Control Engineering**: [Katsuhiko Ogata] {https://amzn.in/d/gvRB2Nm} This book provides the comprehensive coverage of continuous-time control systems and provides a gradual development of control theory, shows how to solve all computational problems with MATLAB and avoids highly mathematical arguments.\n",
    "3. **Control Systems: Principles and Design**: [M Gopal] {https://www.amazon.in/dp/0071333266?ref_=cm_sw_r_cp_ud_dp_ZXG8RARRQRB3P0M5CDHJ} This book offers a comprehensive treatment of control engineering with a strongbalance of analysis and design, mathematics and practice, and theory and hardware;written."
   ]
  }
 ],
 "metadata": {
  "language_info": {
   "name": "python"
  }
 },
 "nbformat": 4,
 "nbformat_minor": 2
}
