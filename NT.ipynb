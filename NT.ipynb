{
 "cells": [
  {
   "cell_type": "markdown",
   "metadata": {},
   "source": [
    "## List Of Topics: -\n",
    "1. **Node & Mesh Analysis**\n",
    "2. **Superposition Theorem**\n",
    "3. **Thevenin's Theorem**\n",
    "4. **Norton's Theorem**\n",
    "5. **Reciprocity**\n",
    "6. **Sinusoidal Steady State Analysis**: phasors; complex number; maximum power transfer\n",
    "7. **Time & Frequency Domain of Linear Circuits**: RL; RC; RLC Circuits\n",
    "8. **Solutions of Network Equations using Laplace Transform**\n",
    "9. **Linear 2-port Network Parameters**\n",
    "10. **wye-delta transformation**\n"
   ]
  },
  {
   "cell_type": "markdown",
   "metadata": {},
   "source": [
    "## Lectures & Tutorials: -\n",
    "1. **Course On Network Analysis**: {https://youtu.be/7Nh7ISeqn6E?list=PLbRMhDVUMngfNnABo5mre45ZbHqJE2sUn} This course provides a list of various topics which are useful to solve a network efficiently. [NPTEL: Prof. Tapas K. Bhattacharya, IITKGP]\n",
    "2. **Basic Circuit Theory**: {https://youtu.be/U_4q0sfChOk?list=PL9KyzjPFbwH37w22z-UHVEt37pdJHjZ7x} An introductory course covering the fundamental principles of electric circuits, including analysis techniques, circuit components, and their behavior. [Prof. B. Razavi, University Of California]\n",
    "3. **Circuit Theory**: {https://youtu.be/Eknlx7zHBVo?list=PLC71BB1EE40C82402} This course provides extra concepts and topics in analysing a network. [NPTEL: Prof S.C. Dutta Roy, IITD]"
   ]
  },
  {
   "cell_type": "markdown",
   "metadata": {},
   "source": [
    "## Books: -\n",
    "1. **Networks And Systems** [Dr. D Roy Choudhury]: {https://amzn.in/d/5VV2Z39} This book covers both linear and non-linear circuit analysis, with a focus on mathematical foundations and methods.\n",
    "2. **Network Analysis** [M.E. Van Valkenburg]: {https://amzn.in/d/5oR2uKs} This book provides basic tools for the design of digital circuits and provides procedures suitable for a variety of digital applications.\n",
    "3. **Circuit Theory (Analysis and Synthesis)** [Abhijit Chakrabarti]: {https://amzn.in/d/cPAnlj2} An excellent resource for both beginners and advanced learners, focusing on circuit theory fundamentals and network synthesis."
   ]
  }
 ],
 "metadata": {
  "language_info": {
   "name": "python"
  }
 },
 "nbformat": 4,
 "nbformat_minor": 2
}
