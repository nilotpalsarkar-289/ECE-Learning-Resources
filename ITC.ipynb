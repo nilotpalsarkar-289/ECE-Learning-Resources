{
 "cells": [
  {
   "cell_type": "markdown",
   "metadata": {},
   "source": [
    "## List of Topics: -\n",
    "1. **Introduction to Information Theory**: What is Information; Relationship of Information theory to other fields, e.g., electrical science, computer science, physics, maths, economics.\n",
    "2. **Entropy**: Relative entropy; Mutual Information; Asymptotic Equipartition Property (AEP); Entropy rate.\n",
    "3. **Data Compression**\n",
    "4. **Channel Capacity**: Noiseless Binary Channel; Binary Symmetric Channel; Binary Erasure Channel; Channel Coding Theorem; Hamming Code.\n",
    "5. **Rate Distortion Theory**: Definitions; Calculation of Rate Distortion Function; Converse and achievability of Rate Distortion Function; Characterization of Rate Distortion Function.\n",
    "6. **Information Theory and Statistics**: Law of Large Numbers; Large Deviation Theory; Hypothesis Testing; Fisher Information; Rao-Cramer Inequality; Information Theory based on statistical inference.\n",
    "7. **Kolomogorov Complexity**\n",
    "8. **Information Theoretic (IT) Methods in Machine Learning**: Information Theoretic Clustering; IT Feature Selection; IT Semi-Supervised Learning; IT metrics.\n",
    "9. **Introduction to Line Codes**: Properties of Line Codes\n",
    "10. **Linear Block Codes**: Minimum Distance of Codes\n",
    "11. **Operation On Codes**: Bounds on Code Paramters\n",
    "12. **Decoders**: Optimal Decoders; Syndrome Decoders\n",
    "13. **Finite Fields**: Construction of Finite Fields; Computations in Finite Fields; Codes over Finite Fields.\n",
    "14. **Codes**: BCH Codes; RS Codes; LDPC Codes; Convolutional Codes"
   ]
  },
  {
   "cell_type": "markdown",
   "metadata": {},
   "source": [
    "## Lectures & Tutorials: -\n",
    "1. **Information Theory**: {https://youtu.be/f8RvFlr5wRk?list=PLbMVogVj5nJRI_hU-0yxRyHTsCg4iXCEd} This course provides lecture series based on the fundamental to advanced concepts on ITC. [NPTEL: Prof. S.N. Merchant, IITB]\n",
    "2. **Coding Theory**: {https://youtu.be/_oxnYV6y51w?list=PL5002EB7306694E7D} This course provides the lecture series which is based on mathematical foundations and Coding Theory. [NPTEL: Prof. Andrew Thangarajan, IITM]"
   ]
  },
  {
   "cell_type": "markdown",
   "metadata": {},
   "source": [
    "## Books: -\n",
    "1. **Elements of Information Theory**: [Thomas M. Cover, 2nd ed, Wiley] This textbook contains all the essential topics and concepts required by students and teachers to complete a full course on information theory.\n",
    "2. **Information Theory, Inference and Learning Algorithms**: [David J.C MacKay] Ebook {http://www.inference.phy.cam.ac.uk/mackay/itila/} An instant classic, covering everything from Shannon's fundamental theorems to the postmodern theory of LDPC codes. \n",
    "3. **Error Control Coding**: [Shu Lin and Daniel J. Costello] This makes the book well suited as a text for a first course in coding theory at either the beginning graduate or advanced undergraduate level.\n",
    "4. **Algebraic Coding Theory**: [Elwyn R. Berlekamp - McGraw-Hill] This book includes several algorithms and topics from basic to advanced required for coding theory."
   ]
  }
 ],
 "metadata": {
  "language_info": {
   "name": "python"
  }
 },
 "nbformat": 4,
 "nbformat_minor": 2
}
