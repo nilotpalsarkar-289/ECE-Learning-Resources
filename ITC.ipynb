{
 "cells": [
  {
   "cell_type": "markdown",
   "metadata": {},
   "source": [
    "## List of Topics: -\n",
    "1. **Introduction to Information Theory**: What is Information; Relationship of Information theory to other fields, e.g., electrical science, computer science, physics, maths, economics.\n",
    "2. **Entropy**: Relative entropy; Mutual Information; Asymptotic Equipartition Property (AEP); Entropy rate.\n",
    "3. **Data Compression**\n",
    "4. **Channel Capacity**: Noiseless Binary Channel; Binary Symmetric Channel; Binary Erasure Channel; Channel Coding Theorem; Hamming Code.\n",
    "5. **Rate Distortion Theory**: Definitions; Calculation of Rate Distortion Function; Converse and achievability of Rate Distortion Function; Characterization of Rate Distortion Function.\n",
    "6. **Information Theory and Statistics**: Law of Large Numbers; Large Deviation Theory; Hypothesis Testing; Fisher Information; Rao-Cramer Inequality; Information Theory based on statistical inference.\n",
    "7. **Kolomogorov Complexity**\n",
    "8. **Information Theoretic (IT) Methods in Machine Learning**: Information Theoretic Clustering; IT Feature Selection; IT Semi-Supervised Learning; IT metrics.\n",
    "9. **Introduction to Line Codes**: Properties of Line Codes\n",
    "10. **Linear Block Codes**: Minimum Distance of Codes\n",
    "11. **Operation On Codes**: Bounds on Code Paramters\n",
    "12. **Decoders**: Optimal Decoders; Syndrome Decoders\n",
    "13. **Finite Fields**: Construction of Finite Fields; Computations in Finite Fields; Codes over Finite Fields.\n",
    "14. **Codes**: BCH Codes; RS Codes; LDPC Codes; Convolutional Codes"
   ]
  },
  {
   "cell_type": "markdown",
   "metadata": {},
   "source": [
    "## Lectures & Tutorials: -\n",
    "1. "
   ]
  },
  {
   "cell_type": "markdown",
   "metadata": {},
   "source": [
    "## Books: -\n",
    "1. "
   ]
  }
 ],
 "metadata": {
  "language_info": {
   "name": "python"
  }
 },
 "nbformat": 4,
 "nbformat_minor": 2
}
