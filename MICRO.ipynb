{
 "cells": [
  {
   "cell_type": "markdown",
   "metadata": {},
   "source": [
    "## List of Topics: -\n",
    "### 8085 Microprocessor:\n",
    "1. **Architecture**\n",
    "2. **Instruction set, addressing modes**\n",
    "3. **Assembly language programming**\n",
    "4. **Interfacing with memory and I/O**\n",
    "5. **Basic Concepts of serial I/O, DMA**\n",
    "6. **Timing diagram and machine cycles**\n",
    "7. **Interrupts**\n",
    "8. **Support IC chip: PPI 8255**\n",
    "### 8051 Microcontroller:\n",
    "9. **8051 Architecture**: 8051 microcontroller hardware, input/output pins, ports, external memory, outcomes counters and timers.\n",
    "10. **Instruction Set, Addressing Modes**\n",
    "11. **Assembly language programming**\n",
    "12. **Interrupts**\n",
    "13. **Interfacing of 8051 with different sensors**\n",
    "### Arduino:\n",
    "14. **Introduction to Arduino**\n",
    "15. **Architecture, Pin description**\n",
    "16. **Programming**:interfacing with different sensors\n",
    "### Raspberry Pi\n",
    "17. **Introduction to Raspberry Pi**\n",
    "18. **Architecture, Pin Description**\n",
    "19. **Programming**: Interfacing with different sensors\n"
   ]
  },
  {
   "cell_type": "markdown",
   "metadata": {},
   "source": [
    "## Lectures & Tutorials: -\n",
    "1. **Arduino Course for Beginners**: {https://youtu.be/zJ-LqeX_fLU} This course provides everything an individual need to start electronics projects with arduino. [freeCodeCamp]\n",
    "2. **Raspberry pi Workshop for Beginners**: {https://youtu.be/xiR14tSfc-U?list=PLPK2l9Knytg67nkvpnnl81ossAHfOgmqU} This course contains most of the topics required to start with raspberry pi. [Core Electronics]\n",
    "3. **Microprocessors & Microcontrollers**: {https://youtu.be/liRPtvj7bFU?list=PL0E131A78ABFBFDD0} This lecture series offer an in-depth guide to this subject. [NPTEL: Prof. Ajit Pal, IITKGP]"
   ]
  },
  {
   "cell_type": "markdown",
   "metadata": {},
   "source": [
    "## Books & Materials: -\n",
    "1. **The 8051 Microcontroller and Embedded Systems** [Muhammad Ali Mazidi, Janice G. Mazidi]: {https://www.amazon.in/dp/013119402X?ref_=cm_sw_r_cp_ud_dp_CTQAMK8RTV3K4EVB7Y8F} This book offers clear explanations and ample programming examples in both assembly and C.\n",
    "2. **Microprocessor Architecture, Programming, and Applications with the 8085** [Ramesh Gaonkar]: {https://www.amazon.in/dp/8187972882?ref_=cm_sw_r_cp_ud_dp_KW5CVT10VTYHGQ1VD7QY} This is the most beginner friendly book to learn microprocessors.\n",
    "3. **Arduino for Beginners: Essential Skills Every Maker Needs** [John Baichtal]: {https://amzn.in/d/0BQi9AD}  It is a highly beginner-friendly guide with step-by-step instructions and practical projects to help newcomers learn Arduino easily.\n",
    "4. **Raspberry Pi User Guide** [Eben Upton & Gareth Halfarcee]: {https://amzn.in/d/3prN7zK} his book offers clear explanations, hands-on projects, and step-by-step tutorials, making it ideal for beginners looking to get started with Raspberry Pi.\n",
    "5. **Microprocessor Notes** [Javapoint]: {https://www.javatpoint.com/microprocessor-introduction} It contains all the required notes and tables sorted neatly for microprocessor.\n",
    "6. **Microcontroller Notes** [GeeksforGeeks]: {https://www.geeksforgeeks.org/introduction-to-8051-microcontroller/} It contains all the required notes and instruction set for microcontroller."
   ]
  }
 ],
 "metadata": {
  "language_info": {
   "name": "python"
  }
 },
 "nbformat": 4,
 "nbformat_minor": 2
}
