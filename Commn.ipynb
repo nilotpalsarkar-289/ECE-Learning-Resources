{
 "cells": [
  {
   "cell_type": "markdown",
   "metadata": {},
   "source": [
    "## List of Topics: -\n",
    "### Analog Communication:\n",
    "1. **Amplitude Modulation and Demodulation**\n",
    "2. **Angle Modulation and Demodulation**\n",
    "3. **Spectra of AM and FM**\n",
    "4. **Super Heterodyne Receivers**\n",
    "### Digital Communication:\n",
    "5. **PCM, DPCM**\n",
    "6. **Digital Modulation Schemes**: ASK; PSK; FSK; QAM\n",
    "7. **Bandwidth**\n",
    "8. **Inter-symbol Interference**\n",
    "9. **MAP, ML Detection**\n",
    "10. **Matched Filter Receiver**\n",
    "11. **SNR & BER**"
   ]
  },
  {
   "cell_type": "markdown",
   "metadata": {},
   "source": [
    "## Lectures & Tutorials: -\n",
    "1. **Analog Communication**: {https://youtu.be/s_vmLqT_6NQ?list=PLPeKeikHHWGfaHVBYrqxRk2Wl8uYSjRWM} This lecture series provides a detailed overview on the fundamentals of communication and analog communication. [NPTEL: Prof. Goutam Das, IITKGP]\n",
    "2. **Digital Communication Systems**: {https://youtu.be/_-nhtzo5pg0?list=PLL0DaRxrWZe6x6_sPChcNT5rsPCKigk7x} This lecture series provides a complete guide to digital communication systems. [NPTEL: Prof. Andrew Thangaraj, IITM]"
   ]
  },
  {
   "cell_type": "markdown",
   "metadata": {},
   "source": [
    "## Books: -\n",
    "1. **Modern Digital And Analog Communication Systems** [B.P. Lathi and Zhi Ding]: {https://amzn.in/d/5yECBM4} This book first introduces the fundamentals of signals and systems and core communication topics and then presents the tools essential to the design and analysis of digital communications.\n",
    "2. **Communication Systems** [Simon Haykin]: {https://amzn.in/d/0nAZQXD} This classic textbook provides an in-depth understanding of both analog and digital communication systems. \n",
    "3. **Digital Communications** [John G. Proakis and Masoud Salehi]: {https://amzn.in/d/4mUqlKL} This book provides a complete and through introduction to the analysis and design of digital communication systems."
   ]
  }
 ],
 "metadata": {
  "language_info": {
   "name": "python"
  }
 },
 "nbformat": 4,
 "nbformat_minor": 2
}
